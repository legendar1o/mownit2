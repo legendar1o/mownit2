{
 "cells": [
  {
   "cell_type": "markdown",
   "metadata": {},
   "source": [
    "# Iteracyjne metody rozwiązywania równań liniowych"
   ]
  },
  {
   "cell_type": "markdown",
   "metadata": {},
   "source": [
    "### Czytanka\n",
    "* Kincaid, Cheney, rozdz. 8.2, str. 319 (bardzo przystępnie napisane)\n",
    "* Normy wektorów i macierzy:\n",
    "    * wektorowa: https://en.wikipedia.org/wiki/Norm_(mathematics)\n",
    "    * macierzowa: https://en.wikipedia.org/wiki/Matrix_norm\n",
    "* Metoda Jacobiego: https://en.wikipedia.org/wiki/Jacobi_method\n",
    "* Metoda SOR: https://en.wikipedia.org/wiki/Successive_over-relaxation\n",
    "* Metoda Gaussa-Seidela: https://en.wikipedia.org/wiki/Gauss%E2%80%93Seidel_method\n",
    "* (ale wystarczy K&C)\n",
    "\n",
    "### Troszkę teorii\n",
    "\n",
    "Chcemy rozwiązać układ równań liniowych postaci $A\\mathbf {x} =\\mathbf {b} $, gdzie:\n",
    "\n",
    "$$\n",
    "A={\\begin{bmatrix}a_{11}&a_{12}&\\cdots &a_{1n}\\\\a_{21}&a_{22}&\\cdots &a_{2n}\\\\\\vdots &\\vdots &\\ddots &\\vdots \\\\a_{n1}&a_{n2}&\\cdots &a_{nn}\\end{bmatrix}},\\qquad \\mathbf {x} ={\\begin{bmatrix}x_{1}\\\\x_{2}\\\\\\vdots \\\\x_{n}\\end{bmatrix}},\\qquad \\mathbf {b} ={\\begin{bmatrix}b_{1}\\\\b_{2}\\\\\\vdots \\\\b_{n}\\end{bmatrix}}.\n",
    "$$\n",
    "\n",
    "Mimo, że dobrze znamy dokładne metody rozwiązania takiego równania, częstokroć w praktyce nie możemy ich zastosować -- przede wszystkim ze względu na rozmiar problemu. Rozwiązanie? Zastosować metody iteracyjne, które, choć nie dadzą nam dokładnego wyniku, pozwolą nam w rozsądnym czasie uzyskać dobrą aproksymację. (Zresztą, dokładne metody też nie dają dokładnych rezultatów z powodu błędów arytmetyki zmiennoprzecinkowej).\n",
    "\n",
    "_Suchy żarcik dnia: John ma problem. John myśli: \"Wiem, użyję arytmetyki zmiennoprzecinkowej.\" Teraz John ma 1.999999997 problemu. (Zasłyszane w pracy)._\n",
    "\n",
    "\n",
    "#### Metoda Jacobiego\n",
    "\n",
    "Metody Jacobiego możemy użyć pod warunkiem, że macierz jest przekątniowo dominująca, tj. mamy $ |a_{ii}|\\geq \\sum _{j\\neq i}|a_{ij}|\\quad {\\text{dla każdego }}i. $\n",
    "\n",
    "Pomysł polega na rozkładzie macierzy A na **sumę** dwóch macierzy:\n",
    "$$\n",
    "A=D+R\\qquad {\\text{gdzie}}\\qquad D={\\begin{bmatrix}a_{11}&0&\\cdots &0\\\\0&a_{22}&\\cdots &0\\\\\\vdots &\\vdots &\\ddots &\\vdots \\\\0&0&\\cdots &a_{nn}\\end{bmatrix}}{\\text{ oraz }}R={\\begin{bmatrix}0&a_{12}&\\cdots &a_{1n}\\\\a_{21}&0&\\cdots &a_{2n}\\\\\\vdots &\\vdots &\\ddots &\\vdots \\\\a_{n1}&a_{n2}&\\cdots &0\\end{bmatrix}}.\n",
    "$$\n",
    "\n",
    "Następnie krok iteracji wygląda następująco:\n",
    "$$ \\mathbf {x} ^{(k+1)}=D^{-1}(\\mathbf {b} -R\\mathbf {x} ^{(k)}), $$\n",
    "\n",
    "I element po elemencie:\n",
    "$$ x_{i}^{(k+1)}={\\frac {1}{a_{ii}}}\\left(b_{i}-\\sum _{j\\neq i}a_{ij}x_{j}^{(k)}\\right),\\quad i=1,2,\\ldots ,n. $$\n",
    "\n",
    "Zwróćmy uwagę, że cały trick polega na tym, że macierz $D$ bardzo łatwo odwrócić.\n",
    "\n",
    "### Zadanie 1.\n",
    "Zaimplementować metodę Jacobiego i przetestować jej działanie na paru układach równań. Porównać z metodą eliminacji Gaussa użytą do tych samych równań."
   ]
  },
  {
   "cell_type": "code",
   "execution_count": 36,
   "metadata": {},
   "outputs": [],
   "source": [
    "def check_method(A: np.matrix, b: np.matrix, method):\n",
    "    xt = np.linalg.solve(A, b)\n",
    "    for i in range(1,1000):\n",
    "        x = method(A, b, i)\n",
    "        print(x)\n",
    "        if(np.allclose(xt.transpose(), x) == True):\n",
    "            print(\"Accurate after\", i, \"iterations\")\n",
    "            break"
   ]
  },
  {
   "cell_type": "code",
   "execution_count": 23,
   "metadata": {},
   "outputs": [],
   "source": [
    "import numpy as np\n",
    "\n",
    "def jacobi_solve(A: np.matrix, b: np.matrix, iterations = 1000) -> np.matrix:\n",
    "    n = A.shape[0]\n",
    "    x = np.zeros(n)\n",
    "    k = 0\n",
    "    while k < iterations:\n",
    "        x1 = np.zeros(n)\n",
    "        for i in range(n):\n",
    "            sum = 0\n",
    "            for j in range(n):\n",
    "                if j != i:\n",
    "                    sum = sum + A[i, j] * x[j]\n",
    "            x1[i] = (1 / A[i, i]) * (b[i] - sum)\n",
    "        x = x1\n",
    "        k = k + 1\n",
    "    return x"
   ]
  },
  {
   "cell_type": "code",
   "execution_count": 25,
   "metadata": {},
   "outputs": [
    {
     "name": "stdout",
     "output_type": "stream",
     "text": [
      "[5.5        1.85714286]\n",
      "[ 4.57142857 -2.07142857]\n",
      "[ 6.53571429 -1.40816327]\n",
      "[ 6.20408163 -2.81122449]\n",
      "[ 6.90561224 -2.57434402]\n",
      "[ 6.78717201 -3.07543732]\n",
      "[ 7.03771866 -2.99083715]\n",
      "[ 6.99541858 -3.16979904]\n",
      "[ 7.08489952 -3.1395847 ]\n",
      "[ 7.06979235 -3.20349966]\n",
      "[ 7.10174983 -3.19270882]\n",
      "[ 7.09635441 -3.21553559]\n",
      "[ 7.1077678  -3.21168172]\n",
      "[ 7.10584086 -3.21983414]\n",
      "[ 7.10991707 -3.21845776]\n",
      "[ 7.10922888 -3.22136934]\n",
      "[ 7.11068467 -3.22087777]\n",
      "[ 7.11043889 -3.22191762]\n",
      "[ 7.11095881 -3.22174206]\n",
      "[ 7.11087103 -3.22211344]\n",
      "[ 7.11105672 -3.22205074]\n",
      "[ 7.11102537 -3.22218337]\n",
      "[ 7.11109168 -3.22216098]\n",
      "[ 7.11108049 -3.22220835]\n",
      "Accurate after 24 iterations\n"
     ]
    }
   ],
   "source": [
    "A = np.matrix([[2, 1], [5, 7]])\n",
    "b = np.matrix([11, 13]).transpose()\n",
    "check_method(A, b, jacobi_solve)"
   ]
  },
  {
   "cell_type": "markdown",
   "metadata": {},
   "source": [
    "#### Metoda Gaussa-Seidela\n",
    "\n",
    "Opiera się na tym samym pomyśle, co metoda Jacobiego, ale przy innym rozkładzie macierzy $A$:\n",
    "\n",
    "$$\n",
    "A=L_{*}+U\\qquad {\\text{where}}\\qquad L_{*}={\\begin{bmatrix}a_{11}&0&\\cdots &0\\\\a_{21}&a_{22}&\\cdots &0\\\\\\vdots &\\vdots &\\ddots &\\vdots \\\\a_{n1}&a_{n2}&\\cdots &a_{nn}\\end{bmatrix}},\\quad U={\\begin{bmatrix}0&a_{12}&\\cdots &a_{1n}\\\\0&0&\\cdots &a_{2n}\\\\\\vdots &\\vdots &\\ddots &\\vdots \\\\0&0&\\cdots &0\\end{bmatrix}}.\n",
    "$$\n",
    "\n",
    "Wtedy układ równań możemy zapisać jako: $ L_{*}\\mathbf {x} =\\mathbf {b} -U\\mathbf {x} $ i iterować tak:\n",
    "\n",
    "$$ \\mathbf {x} ^{(k+1)}=L_{*}^{-1}(\\mathbf {b} -U\\mathbf {x} ^{(k)}). $$\n",
    "\n",
    "Element po elemencie:\n",
    "\n",
    "$$ {\\displaystyle x_{i}^{(k+1)}={\\frac {1}{a_{ii}}}\\left(b_{i}-\\sum _{j=1}^{i-1}a_{ij}x_{j}^{(k+1)}-\\sum _{j=i+1}^{n}a_{ij}x_{j}^{(k)}\\right),\\quad i=1,2,\\dots ,n.} $$\n",
    "\n",
    "Podobnie jak z Jacobim, tutaj trick polega na tym, że macierz L jest łatwa do odwrócenia.\n",
    "\n",
    "### Zadanie 2.\n",
    "Zaimplementować metodę Gaussa-Seidela i przetestować na tych samych układach równań, co metodę Jacobiego. "
   ]
  },
  {
   "cell_type": "code",
   "execution_count": 29,
   "metadata": {},
   "outputs": [],
   "source": [
    "def gauss_seidel_solve(A: np.matrix, b: np.matrix, iterations = 1000) -> np.matrix:\n",
    "    if A.shape[0] != A.shape[1] or A.shape[1] != b.shape[0]:\n",
    "        raise ArithmeticError(\"a should be n * n matrix and b should be n * 1 matrix for some n > 0\")\n",
    "    n = A.shape[0]\n",
    "    b1 = np.transpose(b)[0]\n",
    "    x = np.zeros(n)\n",
    "    k=0\n",
    "    while k < iterations:\n",
    "        x1 = np.zeros(n)\n",
    "        for i in range(n):\n",
    "            sumL = 0\n",
    "            sumU = 0\n",
    "            for j in range(0, i):\n",
    "                sumL = sumL + A[i,j] * x1[j]\n",
    "            for j in range(i+1, n):\n",
    "                sumU = sumU + A[i,j] * x[j]\n",
    "            x1[i] = (1 / A[i,i]) * (b[i] - sumL - sumU)\n",
    "        x = x1\n",
    "        k = k + 1\n",
    "    return x"
   ]
  },
  {
   "cell_type": "code",
   "execution_count": 30,
   "metadata": {},
   "outputs": [
    {
     "name": "stdout",
     "output_type": "stream",
     "text": [
      "[ 5.5        -2.07142857]\n",
      "[ 6.53571429 -2.81122449]\n",
      "[ 6.90561224 -3.07543732]\n",
      "[ 7.03771866 -3.16979904]\n",
      "[ 7.08489952 -3.20349966]\n",
      "[ 7.10174983 -3.21553559]\n",
      "[ 7.1077678  -3.21983414]\n",
      "[ 7.10991707 -3.22136934]\n",
      "[ 7.11068467 -3.22191762]\n",
      "[ 7.11095881 -3.22211344]\n",
      "[ 7.11105672 -3.22218337]\n",
      "[ 7.11109168 -3.22220835]\n",
      "Accurate after 12 iterations\n"
     ]
    }
   ],
   "source": [
    "A = np.matrix([[2, 1], [5, 7]])\n",
    "b = np.matrix([11, 13]).transpose()\n",
    "check_method(A, b, gauss_seidel_solve)"
   ]
  },
  {
   "cell_type": "code",
   "execution_count": null,
   "metadata": {},
   "outputs": [],
   "source": []
  },
  {
   "cell_type": "markdown",
   "metadata": {},
   "source": [
    "#### Metoda SOR (Successive Over Relaxation)\n",
    "\n",
    "Znowu podobnie, tyle, że tym razem rozkładamy macierz na sumę trzech macierzy:\n",
    "\n",
    "$$\n",
    "D={\\begin{bmatrix}a_{11}&0&\\cdots &0\\\\0&a_{22}&\\cdots &0\\\\\\vdots &\\vdots &\\ddots &\\vdots \\\\0&0&\\cdots &a_{nn}\\end{bmatrix}},\\quad L={\\begin{bmatrix}0&0&\\cdots &0\\\\a_{21}&0&\\cdots &0\\\\\\vdots &\\vdots &\\ddots &\\vdots \\\\a_{n1}&a_{n2}&\\cdots &0\\end{bmatrix}},\\quad U={\\begin{bmatrix}0&a_{12}&\\cdots &a_{1n}\\\\0&0&\\cdots &a_{2n}\\\\\\vdots &\\vdots &\\ddots &\\vdots \\\\0&0&\\cdots &0\\end{bmatrix}}.\n",
    "$$\n",
    "\n",
    "Co umożliwia zapisanie układu równań tak: $ (D+\\omega L)\\mathbf {x} =\\omega \\mathbf {b} -[\\omega U+(\\omega -1)D]\\mathbf {x} $ i daje następujące wzory na iterację:\n",
    "\n",
    "$$ \\mathbf {x} ^{(k+1)}=(D+\\omega L)^{-1}{\\big (}\\omega \\mathbf {b} -[\\omega U+(\\omega -1)D]\\mathbf {x} ^{(k)}{\\big )}=L_{w}\\mathbf {x} ^{(k)}+\\mathbf {c} , $$\n",
    "\n",
    "oraz:\n",
    "\n",
    "$$ x_{i}^{(k+1)}=(1-\\omega )x_{i}^{(k)}+{\\frac {\\omega }{a_{ii}}}\\left(b_{i}-\\sum _{j<i}a_{ij}x_{j}^{(k+1)}-\\sum _{j>i}a_{ij}x_{j}^{(k)}\\right),\\quad i=1,2,\\ldots ,n. $$\n",
    "\n",
    "### Zadanie 3.\n",
    "Zaimplementować metodę SOR i przetestować na tych samych układach."
   ]
  },
  {
   "cell_type": "code",
   "execution_count": 37,
   "metadata": {},
   "outputs": [],
   "source": [
    "def sor_solve(A: np.matrix, b: np.matrix, iterations) -> np.matrix:\n",
    "    if A.shape[0] != A.shape[1] or A.shape[1] != b.shape[0]:\n",
    "        raise ArithmeticError(\"a should be n * n matrix and b should be n * 1 matrix for some n > 0\")\n",
    "    n = A.shape[0]\n",
    "    b1 = np.transpose(b)[0]\n",
    "    x = np.zeros(n)\n",
    "    omega = 0.4\n",
    "    k = 0\n",
    "    while k < iterations:\n",
    "        x1 = np.zeros(n)\n",
    "        for i in range(n):\n",
    "            sumL = 0\n",
    "            sumU = 0\n",
    "            for j in range(0, i):\n",
    "                sumL = sumL + A[i,j] * x1[j]\n",
    "            for j in range(i+1, n):\n",
    "                sumU = sumU + A[i,j] * x[j]\n",
    "            x1[i] = (1 - omega) * x[i] + (omega / A[i,i]) * (b[i] - sumL - sumU)\n",
    "        x = x1\n",
    "        k = k + 1\n",
    "    return x"
   ]
  },
  {
   "cell_type": "code",
   "execution_count": 38,
   "metadata": {},
   "outputs": [
    {
     "name": "stdout",
     "output_type": "stream",
     "text": [
      "[2.2        0.11428571]\n",
      "[ 3.49714286 -0.1877551 ]\n",
      "[ 4.33583673 -0.60860641]\n",
      "[ 4.92322332 -1.02894194]\n",
      "[ 5.35972238 -1.40585727]\n",
      "[ 5.69700488 -1.7283729 ]\n",
      "[ 5.96387751 -1.9981316 ]\n",
      "[ 6.17795283 -2.2211512 ]\n",
      "[ 6.35100194 -2.40440556]\n",
      "[ 6.49148227 -2.55449541]\n",
      "[ 6.60578845 -2.67720823]\n",
      "[ 6.69891471 -2.77744343]\n",
      "[ 6.77483751 -2.85927678]\n",
      "[ 6.83675786 -2.92606831]\n",
      "[ 6.88726838 -2.98057481]\n",
      "[ 6.92847599 -3.02505231]\n",
      "[ 6.96209606 -3.06134455]\n",
      "[ 6.98952654 -3.09095717]\n",
      "[ 7.01190736 -3.11511926]\n",
      "[ 7.03016827 -3.13483392]\n",
      "[ 7.04506774 -3.15091971]\n",
      "[ 7.05722459 -3.16404456]\n",
      "[ 7.06714367 -3.1747535 ]\n",
      "[ 7.0752369  -3.18349121]\n",
      "[ 7.08184038 -3.19062055]\n",
      "[ 7.08722834 -3.19643757]\n",
      "[ 7.09162452 -3.20118383]\n",
      "[ 7.09521148 -3.20505644]\n",
      "[ 7.09813817 -3.2082162 ]\n",
      "[ 7.10052614 -3.21079433]\n",
      "[ 7.10247455 -3.2128979 ]\n",
      "[ 7.10406431 -3.21461426]\n",
      "[ 7.10536144 -3.21601468]\n",
      "[ 7.1064198  -3.21715732]\n",
      "[ 7.10728334 -3.21808963]\n",
      "[ 7.10798793 -3.21885033]\n",
      "[ 7.10856283 -3.21947101]\n",
      "[ 7.1090319  -3.21997743]\n",
      "[ 7.10941462 -3.22039064]\n",
      "[ 7.1097269  -3.22072778]\n",
      "[ 7.1099817  -3.22100287]\n",
      "[ 7.11018959 -3.22122732]\n",
      "[ 7.11035922 -3.22141045]\n",
      "[ 7.11049762 -3.22155988]\n",
      "[ 7.11061055 -3.2216818 ]\n",
      "[ 7.11070269 -3.22178128]\n",
      "[ 7.11077787 -3.22186244]\n",
      "[ 7.11083921 -3.22192867]\n",
      "[ 7.11088926 -3.2219827 ]\n",
      "[ 7.1109301  -3.22202679]\n",
      "[ 7.11096342 -3.22206277]\n",
      "[ 7.1109906  -3.22209212]\n",
      "[ 7.11101279 -3.22211607]\n",
      "[ 7.11103088 -3.22213561]\n",
      "[ 7.11104565 -3.22215155]\n",
      "[ 7.1110577  -3.22216456]\n",
      "[ 7.11106753 -3.22217517]\n",
      "[ 7.11107555 -3.22218383]\n",
      "[ 7.1110821 -3.2221909]\n",
      "Accurate after 59 iterations\n"
     ]
    }
   ],
   "source": [
    "A = np.matrix([[2, 1], [5, 7]])\n",
    "b = np.matrix([11, 13]).transpose()\n",
    "check_method(A, b, sor_solve)"
   ]
  },
  {
   "cell_type": "markdown",
   "metadata": {},
   "source": [
    "### Zadanie 4.\n",
    "Dla powyższych metod porównać (na wykresie) tempo zbiegania do rozwiązania.\n",
    "\n",
    "### Pytanie\n",
    "Jakie jest kryterium zbieżności metod powyżej? Czy zawsze można je stosować?\n",
    "\n",
    "#### Bonus:\n",
    "Jak przeklejać piękne wzory z Wikipedii i się przy tym nie namęczyć? (na zajęciach)."
   ]
  }
 ],
 "metadata": {
  "kernelspec": {
   "display_name": "Python 3",
   "language": "python",
   "name": "python3"
  },
  "language_info": {
   "codemirror_mode": {
    "name": "ipython",
    "version": 3
   },
   "file_extension": ".py",
   "mimetype": "text/x-python",
   "name": "python",
   "nbconvert_exporter": "python",
   "pygments_lexer": "ipython3",
   "version": "3.7.2"
  }
 },
 "nbformat": 4,
 "nbformat_minor": 2
}
