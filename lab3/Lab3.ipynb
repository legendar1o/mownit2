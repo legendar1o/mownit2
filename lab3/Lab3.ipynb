{
 "cells": [
  {
   "cell_type": "markdown",
   "metadata": {},
   "source": [
    "# Układy równań liniowych\n",
    "\n",
    "### Pojęcia warte poznania\n",
    "\n",
    "* Układ równań liniowych: https://pl.wikipedia.org/wiki/Układ_równań_liniowych\n",
    "* Rząd macierzy: https://pl.wikipedia.org/wiki/Rząd_macierzy\n",
    "* Kombinacja liniowa: https://pl.wikipedia.org/wiki/Kombinacja_liniowa\n",
    "* Eliminacja Gaussa: https://pl.wikipedia.org/wiki/Metoda_eliminacji_Gaussa, Kincaid-Cheney_*_ str. 245, pełny pseudokod: str. 252\n",
    "* Pivoting: https://en.wikipedia.org/wiki/Pivot_element#Partial_and_complete_pivoting, K.C. str. 261, pełny pseudokod: str. 267\n",
    "* Norma wektora: https://pl.wikipedia.org/wiki/Przestrze%C5%84_unormowana, K.C. str. 320\n",
    "* Norma macierzy: https://pl.wikipedia.org/wiki/Norma_macierzowa\n",
    "* Macierz dodatnio określona: https://pl.wikipedia.org/wiki/Określoność_formy\n",
    "* Faktoryzacja LU: https://pl.wikipedia.org/wiki/Metoda_LU, K.C. str. 294\n",
    "* Faktoryzacja Cholesky'ego: https://pl.wikipedia.org/wiki/Rozkład_Choleskiego, K.C. str. 305\n",
    "\n",
    "Dodatkowo:\n",
    "* Wskaźnik uwarunkowania: https://pl.wikipedia.org/wiki/Wska%C5%BAnik_uwarunkowania, K.C. str.321\n",
    "* Metoda Jacobiego: https://en.wikipedia.org/wiki/Jacobi_method, K.C. 323\n",
    "\n",
    "Książka dla wytrwałych (naprawdę): Y. Saad \"Iterative Methods for Sparse Linear Systems\""
   ]
  },
  {
   "cell_type": "code",
   "execution_count": 3,
   "metadata": {},
   "outputs": [],
   "source": [
    "from typing import Optional, Tuple\n",
    "import numpy as np"
   ]
  },
  {
   "cell_type": "markdown",
   "metadata": {},
   "source": [
    "### Zadanie rozgrzewkowe:\n",
    "Napisać mnożenie macierzy w ulubionym_\\**_ języku programowania.\n",
    "\n",
    "**Pytanko:** jakie muszą być wymiary mnożonych macierzy? (Który wymiar musi się \"zgadzać\"?)\n",
    "\n",
    "**Zadanko:** Uzupełnić brakujące wymiary macierzy w docstringu (z dokładnością do [\"alfa-konwersji\"](https://pl.wikipedia.org/wiki/Konwersja_α))"
   ]
  },
  {
   "cell_type": "code",
   "execution_count": 26,
   "metadata": {},
   "outputs": [],
   "source": [
    "def superfast_matrix_multiply(a: np.matrix, b: np.matrix) -> np.matrix:\n",
    "    n = a.shape[0]\n",
    "    m = a.shape[1]\n",
    "    p = b.shape[1]\n",
    "    c = np.zeros((n,p))\n",
    "    \n",
    "    for i in range(0,n):\n",
    "        for j in range(0,p):\n",
    "            for k in range(0,m):\n",
    "                c[i,j] += a[i,k] * b[k,j]\n",
    "    return c\n",
    "    pass\n",
    "m1 = np.matrix([[1, 2],\n",
    "                [3, 4],\n",
    "                [4, 5],\n",
    "                [5, 1]])\n",
    "\n",
    "m2 = np.matrix([[1, 2, 3],\n",
    "                [4, 5, 6]])\n",
    "\n",
    "res = agh_superfast_matrix_multiply(m1, m2)\n",
    "assert np.allclose(res, m1 * m2), \"Wrong multiplication result\""
   ]
  },
  {
   "cell_type": "markdown",
   "metadata": {},
   "source": [
    "### Zadania\n",
    "1. Przeczytać rozdz. 7. Kincaida i Cheney'a (Systems of Linear Equations).\n",
    "2. Przeczytać rozdz. 8. Kincaida i Cheney'a (Additional Topics Concerning Systems of Linear Equations).\n",
    "3. Napisać kod (w ulubionym_\\**_ języku) do eliminacji Gaussa z i bez pivotingu.\n",
    "4. Rozwiązać poniższy układ równań z pivotingiem i bez, porównać wyniki:"
   ]
  },
  {
   "cell_type": "code",
   "execution_count": 27,
   "metadata": {},
   "outputs": [],
   "source": [
    "A = np.matrix([[0.0001, -5.0300, 5.8090, 7.8320],\n",
    "               [2.2660, 1.9950,  1.2120, 8.0080],\n",
    "               [8.8500, 5.6810,  4.5520, 1.3020],\n",
    "               [6.7750, -2.253,  2.9080, 3.9700]])\n",
    "\n",
    "b = np.matrix([9.5740, 7.2190, 5.7300, 6.2910]).transpose()\n",
    "\n",
    "x = np.linalg.solve(A, b)"
   ]
  },
  {
   "cell_type": "markdown",
   "metadata": {},
   "source": [
    "**Pytanie**: dlaczego wołamy `transpose()` na wektorze `b`?\n",
    "\n",
    "Sprawdźmy, czy rozwiązanie jest ok (**Pytanie'**: dlaczego po prostu nie użyjemy `==` lub jakiegoś `equals`?):"
   ]
  },
  {
   "cell_type": "code",
   "execution_count": 28,
   "metadata": {},
   "outputs": [
    {
     "data": {
      "text/plain": [
       "True"
      ]
     },
     "execution_count": 28,
     "metadata": {},
     "output_type": "execute_result"
    }
   ],
   "source": [
    "np.allclose(np.dot(A, x), b)"
   ]
  },
  {
   "cell_type": "markdown",
   "metadata": {},
   "source": [
    "### Zadania, c.d.\n",
    "\n",
    "5. Zaimplementować algorytm faktoryzacji LU macierzy\n",
    "6. (*) Zaimplementować funkcję sprawdzającą, czy dana macierz jest symetryczna i dodatnio określona\n",
    "7. Zaimplementować algorytm faktoryzacji Cholesky'ego macierzy"
   ]
  },
  {
   "cell_type": "code",
   "execution_count": 29,
   "metadata": {},
   "outputs": [],
   "source": [
    "def superfast_lu(a: np.matrix) -> Optional[Tuple[np.matrix, np.matrix]]:\n",
    "    n = a.shape[0]\n",
    "    l = np.zeros((n,n))\n",
    "    u = np.zeros((n,n))\n",
    "    \n",
    "    for k in range(0,n):\n",
    "        l[k,k] = 1\n",
    "        for j in range(k,n):\n",
    "            sum = 0\n",
    "            for s in range(0,k):\n",
    "                sum += l[k,s] * u[s,j]\n",
    "            u[k,j] = a[k,j] - sum\n",
    "        for i in range(k+1,n):\n",
    "            sum = 0\n",
    "            for s in range(0,k):\n",
    "                sum += l[i,s] * u[s,k]\n",
    "            l[i,k] = (a[i,k] - sum) / u[k,k]\n",
    "    return (l, u)\n",
    "\n",
    "def superfast_check_spd(a: np.matrix) -> bool:\n",
    "    l = superfast_cholesky(a)\n",
    "    llt = superfast_matrix_multiply(l, l.transpose())\n",
    "    return np.allclose(llt, a)\n",
    "\n",
    "def superfast_cholesky(a: np.matrix) -> Optional[np.matrix]:\n",
    "    n = a.shape[0]\n",
    "    l = np.zeros((n, n))\n",
    "    \n",
    "    for k in range(0, n):\n",
    "        sum = 0\n",
    "        for s in range(0, k):\n",
    "            sum += l[k, s] * l[k, s]\n",
    "        l[k, k] = pow(a[k, k] - sum, 1 / 2)\n",
    "        for i in range(k+1, n):\n",
    "            sum = 0\n",
    "            for s in range(0, k):\n",
    "                sum += l[i, s] * l[k, s]\n",
    "            l[i, k] = (a[i, k] - sum) / l[k, k]\n",
    "    return l"
   ]
  },
  {
   "cell_type": "code",
   "execution_count": 30,
   "metadata": {},
   "outputs": [
    {
     "name": "stdout",
     "output_type": "stream",
     "text": [
      "[[ 1.          0.          0.        ]\n",
      " [ 0.2         1.          0.        ]\n",
      " [ 0.6        -1.28571429  1.        ]]  = L\n",
      "[[ 5.          3.          2.        ]\n",
      " [ 0.          1.4        -0.4       ]\n",
      " [ 0.          0.          2.28571429]]  = U\n"
     ]
    }
   ],
   "source": [
    "A = np.matrix([[5.0, 3.0, 2.0],\n",
    "               [ 1.0, 2.0, 0.0],\n",
    "               [ 3.0, 0.0, 4.0]])\n",
    "\n",
    "LU = superfast_lu(A)\n",
    "print(LU[0], \" = L\")\n",
    "print(LU[1], \" = U\")"
   ]
  },
  {
   "cell_type": "code",
   "execution_count": 31,
   "metadata": {},
   "outputs": [
    {
     "name": "stdout",
     "output_type": "stream",
     "text": [
      "[[ 1.41421356  0.          0.        ]\n",
      " [-0.70710678  1.22474487  0.        ]\n",
      " [ 0.         -0.81649658  1.15470054]]  = L\n",
      "[[ 1.41421356 -0.70710678  0.        ]\n",
      " [ 0.          1.22474487 -0.81649658]\n",
      " [ 0.          0.          1.15470054]]  = L^T\n"
     ]
    }
   ],
   "source": [
    "A = np.matrix([[2.0, -1.0, 0.0],\n",
    "               [-1.0, 2.0, -1.0],\n",
    "               [ 0.0, -1.0, 2.0]])\n",
    "\n",
    "L = superfast_cholesky(A)\n",
    "print(L, \" = L\")\n",
    "print(L.transpose(), \" = L^T\")"
   ]
  },
  {
   "cell_type": "code",
   "execution_count": 32,
   "metadata": {},
   "outputs": [
    {
     "data": {
      "text/plain": [
       "True"
      ]
     },
     "execution_count": 32,
     "metadata": {},
     "output_type": "execute_result"
    }
   ],
   "source": [
    "A = np.matrix([[2.0, -1.0, 0.0],\n",
    "               [-1.0, 2.0,-1.0],\n",
    "               [ 0.0,-1.0, 2.0]])\n",
    "\n",
    "superfast_check_spd(A)"
   ]
  },
  {
   "cell_type": "markdown",
   "metadata": {},
   "source": [
    "### Zadania, opcjonalnie\n",
    "5. zaimplementować metodę Jacobiego (iteracyjne rozwiązywanie układu równań liniowych)\n",
    "6. za pomocą tejże metody rozwiązać powyższy układ równań"
   ]
  },
  {
   "cell_type": "markdown",
   "metadata": {},
   "source": [
    "\\*  wszystkie referencje odnoszą się do [książki](https://wiki.iiet.pl/lib/exe/fetch.php?media=studia:przedmioty:mownit:numerical_mathematics_and_computing.pdf) David Kincaid, Ward Cheney - \"Numerical Mathematics and Computing, 6th edition\"\n",
    "\\** _ulubiony_ język programowania staramy się pojmować rozsądnie, tj. z wyłączeniem języków pokroju Prologa, języków z [tej listy](https://en.wikipedia.org/wiki/Esoteric_programming_language) oraz Assemblera i PHP. Haskella można używać na własną odpowiedzialność."
   ]
  }
 ],
 "metadata": {
  "kernelspec": {
   "display_name": "Python 3",
   "language": "python",
   "name": "python3"
  },
  "language_info": {
   "codemirror_mode": {
    "name": "ipython",
    "version": 3
   },
   "file_extension": ".py",
   "mimetype": "text/x-python",
   "name": "python",
   "nbconvert_exporter": "python",
   "pygments_lexer": "ipython3",
   "version": "3.7.2"
  }
 },
 "nbformat": 4,
 "nbformat_minor": 2
}
